{
 "cells": [
  {
   "cell_type": "markdown",
   "metadata": {},
   "source": [
    "from the article: _Continous Dice Coefficient: a Method for Evaluating Probabilistic Segmentations._ \n",
    "\n",
    "https://www.biorxiv.org/content/biorxiv/early/2018/04/25/306977.full.pdf"
   ]
  },
  {
   "cell_type": "code",
   "execution_count": null,
   "metadata": {},
   "outputs": [],
   "source": [
    "import numpy as np\n",
    "\n",
    "def cDC(A,B):\n",
    "    size_of_A_intersect_B = np.sum(A[:]*B[:])\n",
    "    size_of_A = np.sum(A[:])\n",
    "    size_of_B = np.sum(B[:])\n",
    "    \n",
    "    if (size_of_A_intersect_B > 0):\n",
    "        c = np.sum(A[:]*B[:]/(np.sum(A[:]*np.sign(B[:]))))\n",
    "    else:\n",
    "        c = 1\n",
    "        \n",
    "    cDC = 2*size_of_A_intersect_B / (c*size_of_A + size_of_B)\n",
    "    \n",
    "    return(cDC)"
   ]
  }
 ],
 "metadata": {
  "kernelspec": {
   "display_name": "Python 3",
   "language": "python",
   "name": "python3"
  },
  "language_info": {
   "codemirror_mode": {
    "name": "ipython",
    "version": 3
   },
   "file_extension": ".py",
   "mimetype": "text/x-python",
   "name": "python",
   "nbconvert_exporter": "python",
   "pygments_lexer": "ipython3",
   "version": "3.7.0"
  }
 },
 "nbformat": 4,
 "nbformat_minor": 2
}
